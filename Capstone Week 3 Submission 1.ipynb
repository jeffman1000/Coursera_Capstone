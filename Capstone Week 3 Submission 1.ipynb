{
  "cells": [
    {
      "metadata": {
        "trusted": true
      },
      "cell_type": "code",
      "source": "import pandas as pd\nimport numpy as np",
      "execution_count": 169,
      "outputs": []
    },
    {
      "metadata": {
        "trusted": true
      },
      "cell_type": "code",
      "source": "# credit to https://www.datacamp.com/community/tutorials/web-scraping-using-python\n# The urllib.request module is used to open URLs. The Beautiful Soup package is used to extract data from html files.\nfrom urllib.request import urlopen\nfrom bs4 import BeautifulSoup",
      "execution_count": 170,
      "outputs": []
    },
    {
      "metadata": {
        "trusted": true
      },
      "cell_type": "code",
      "source": "url = \"https://en.wikipedia.org/wiki/List_of_postal_codes_of_Canada:_M\"\nhtml = urlopen(url)\nsoup = BeautifulSoup(html, 'lxml')\ntype(soup)",
      "execution_count": 171,
      "outputs": [
        {
          "output_type": "execute_result",
          "execution_count": 171,
          "data": {
            "text/plain": "bs4.BeautifulSoup"
          },
          "metadata": {}
        }
      ]
    },
    {
      "metadata": {
        "trusted": true
      },
      "cell_type": "code",
      "source": "tables = soup.find_all('table', attrs={\"class\": \"wikitable sortable\"})\nprint(tables)\n                           ",
      "execution_count": 172,
      "outputs": [
        {
          "output_type": "stream",
          "text": "[<table class=\"wikitable sortable\">\n<tbody><tr>\n<th>Postal Code\n</th>\n<th>Borough\n</th>\n<th>Neighborhood\n</th></tr>\n<tr>\n<td>M1A\n</td>\n<td>Not assigned\n</td>\n<td>\n</td></tr>\n<tr>\n<td>M2A\n</td>\n<td>Not assigned\n</td>\n<td>\n</td></tr>\n<tr>\n<td>M3A\n</td>\n<td>North York\n</td>\n<td>Parkwoods\n</td></tr>\n<tr>\n<td>M4A\n</td>\n<td>North York\n</td>\n<td>Victoria Village\n</td></tr>\n<tr>\n<td>M5A\n</td>\n<td>Downtown Toronto\n</td>\n<td>Regent Park, Harbourfront\n</td></tr>\n<tr>\n<td>M6A\n</td>\n<td>North York\n</td>\n<td>Lawrence Manor, Lawrence Heights\n</td></tr>\n<tr>\n<td>M7A\n</td>\n<td>Downtown Toronto\n</td>\n<td>Queen's Park, Ontario Provincial Government\n</td></tr>\n<tr>\n<td>M8A\n</td>\n<td>Not assigned\n</td>\n<td>\n</td></tr>\n<tr>\n<td>M9A\n</td>\n<td>Etobicoke\n</td>\n<td>Islington Avenue, Humber Valley Village\n</td></tr>\n<tr>\n<td>M1B\n</td>\n<td>Scarborough\n</td>\n<td>Malvern, Rouge\n</td></tr>\n<tr>\n<td>M2B\n</td>\n<td>Not assigned\n</td>\n<td>\n</td></tr>\n<tr>\n<td>M3B\n</td>\n<td>North York\n</td>\n<td>Don Mills\n</td></tr>\n<tr>\n<td>M4B\n</td>\n<td>East York\n</td>\n<td>Parkview Hill, Woodbine Gardens\n</td></tr>\n<tr>\n<td>M5B\n</td>\n<td>Downtown Toronto\n</td>\n<td>Garden District, Ryerson\n</td></tr>\n<tr>\n<td>M6B\n</td>\n<td>North York\n</td>\n<td>Glencairn\n</td></tr>\n<tr>\n<td>M7B\n</td>\n<td>Not assigned\n</td>\n<td>\n</td></tr>\n<tr>\n<td>M8B\n</td>\n<td>Not assigned\n</td>\n<td>\n</td></tr>\n<tr>\n<td>M9B\n</td>\n<td>Etobicoke\n</td>\n<td>West Deane Park, Princess Gardens, Martin Grove, Islington, Cloverdale\n</td></tr>\n<tr>\n<td>M1C\n</td>\n<td>Scarborough\n</td>\n<td>Rouge Hill, Port Union, Highland Creek\n</td></tr>\n<tr>\n<td>M2C\n</td>\n<td>Not assigned\n</td>\n<td>\n</td></tr>\n<tr>\n<td>M3C\n</td>\n<td>North York\n</td>\n<td>Don Mills\n</td></tr>\n<tr>\n<td>M4C\n</td>\n<td>East York\n</td>\n<td>Woodbine Heights\n</td></tr>\n<tr>\n<td>M5C\n</td>\n<td>Downtown Toronto\n</td>\n<td>St. James Town\n</td></tr>\n<tr>\n<td>M6C\n</td>\n<td>York\n</td>\n<td>Humewood-Cedarvale\n</td></tr>\n<tr>\n<td>M7C\n</td>\n<td>Not assigned\n</td>\n<td>\n</td></tr>\n<tr>\n<td>M8C\n</td>\n<td>Not assigned\n</td>\n<td>\n</td></tr>\n<tr>\n<td>M9C\n</td>\n<td>Etobicoke\n</td>\n<td>Eringate, Bloordale Gardens, Old Burnhamthorpe, Markland Wood\n</td></tr>\n<tr>\n<td>M1E\n</td>\n<td>Scarborough\n</td>\n<td>Guildwood, Morningside, West Hill\n</td></tr>\n<tr>\n<td>M2E\n</td>\n<td>Not assigned\n</td>\n<td>\n</td></tr>\n<tr>\n<td>M3E\n</td>\n<td>Not assigned\n</td>\n<td>\n</td></tr>\n<tr>\n<td>M4E\n</td>\n<td>East Toronto\n</td>\n<td>The Beaches\n</td></tr>\n<tr>\n<td>M5E\n</td>\n<td>Downtown Toronto\n</td>\n<td>Berczy Park\n</td></tr>\n<tr>\n<td>M6E\n</td>\n<td>York\n</td>\n<td>Caledonia-Fairbanks\n</td></tr>\n<tr>\n<td>M7E\n</td>\n<td>Not assigned\n</td>\n<td>\n</td></tr>\n<tr>\n<td>M8E\n</td>\n<td>Not assigned\n</td>\n<td>\n</td></tr>\n<tr>\n<td>M9E\n</td>\n<td>Not assigned\n</td>\n<td>\n</td></tr>\n<tr>\n<td>M1G\n</td>\n<td>Scarborough\n</td>\n<td>Woburn\n</td></tr>\n<tr>\n<td>M2G\n</td>\n<td>Not assigned\n</td>\n<td>\n</td></tr>\n<tr>\n<td>M3G\n</td>\n<td>Not assigned\n</td>\n<td>\n</td></tr>\n<tr>\n<td>M4G\n</td>\n<td>East York\n</td>\n<td>Leaside\n</td></tr>\n<tr>\n<td>M5G\n</td>\n<td>Downtown Toronto\n</td>\n<td>Central Bay Street\n</td></tr>\n<tr>\n<td>M6G\n</td>\n<td>Downtown Toronto\n</td>\n<td>Christie\n</td></tr>\n<tr>\n<td>M7G\n</td>\n<td>Not assigned\n</td>\n<td>\n</td></tr>\n<tr>\n<td>M8G\n</td>\n<td>Not assigned\n</td>\n<td>\n</td></tr>\n<tr>\n<td>M9G\n</td>\n<td>Not assigned\n</td>\n<td>\n</td></tr>\n<tr>\n<td>M1H\n</td>\n<td>Scarborough\n</td>\n<td>Cedarbrae\n</td></tr>\n<tr>\n<td>M2H\n</td>\n<td>North York\n</td>\n<td>Hillcrest Village\n</td></tr>\n<tr>\n<td>M3H\n</td>\n<td>North York\n</td>\n<td>Bathurst Manor, Wilson Heights, Downsview North\n</td></tr>\n<tr>\n<td>M4H\n</td>\n<td>East York\n</td>\n<td>Thorncliffe Park\n</td></tr>\n<tr>\n<td>M5H\n</td>\n<td>Downtown Toronto\n</td>\n<td>Richmond, Adelaide, King\n</td></tr>\n<tr>\n<td>M6H\n</td>\n<td>West Toronto\n</td>\n<td>Dufferin, Dovercourt Village\n</td></tr>\n<tr>\n<td>M7H\n</td>\n<td>Not assigned\n</td>\n<td>\n</td></tr>\n<tr>\n<td>M8H\n</td>\n<td>Not assigned\n</td>\n<td>\n</td></tr>\n<tr>\n<td>M9H\n</td>\n<td>Not assigned\n</td>\n<td>\n</td></tr>\n<tr>\n<td>M1J\n</td>\n<td>Scarborough\n</td>\n<td>Scarborough Village\n</td></tr>\n<tr>\n<td>M2J\n</td>\n<td>North York\n</td>\n<td>Fairview, Henry Farm, Oriole\n</td></tr>\n<tr>\n<td>M3J\n</td>\n<td>North York\n</td>\n<td>Northwood Park, York University\n</td></tr>\n<tr>\n<td>M4J\n</td>\n<td>East York\n</td>\n<td>East Toronto, Broadview North (Old East York)\n</td></tr>\n<tr>\n<td>M5J\n</td>\n<td>Downtown Toronto\n</td>\n<td>Harbourfront East, Union Station, Toronto Islands\n</td></tr>\n<tr>\n<td>M6J\n</td>\n<td>West Toronto\n</td>\n<td>Little Portugal, Trinity\n</td></tr>\n<tr>\n<td>M7J\n</td>\n<td>Not assigned\n</td>\n<td>\n</td></tr>\n<tr>\n<td>M8J\n</td>\n<td>Not assigned\n</td>\n<td>\n</td></tr>\n<tr>\n<td>M9J\n</td>\n<td>Not assigned\n</td>\n<td>\n</td></tr>\n<tr>\n<td>M1K\n</td>\n<td>Scarborough\n</td>\n<td>Kennedy Park, Ionview, East Birchmount Park\n</td></tr>\n<tr>\n<td>M2K\n</td>\n<td>North York\n</td>\n<td>Bayview Village\n</td></tr>\n<tr>\n<td>M3K\n</td>\n<td>North York\n</td>\n<td>Downsview\n</td></tr>\n<tr>\n<td>M4K\n</td>\n<td>East Toronto\n</td>\n<td>The Danforth West, Riverdale\n</td></tr>\n<tr>\n<td>M5K\n</td>\n<td>Downtown Toronto\n</td>\n<td>Toronto Dominion Centre, Design Exchange\n</td></tr>\n<tr>\n<td>M6K\n</td>\n<td>West Toronto\n</td>\n<td>Brockton, Parkdale Village, Exhibition Place\n</td></tr>\n<tr>\n<td>M7K\n</td>\n<td>Not assigned\n</td>\n<td>\n</td></tr>\n<tr>\n<td>M8K\n</td>\n<td>Not assigned\n</td>\n<td>\n</td></tr>\n<tr>\n<td>M9K\n</td>\n<td>Not assigned\n</td>\n<td>\n</td></tr>\n<tr>\n<td>M1L\n</td>\n<td>Scarborough\n</td>\n<td>Golden Mile, Clairlea, Oakridge\n</td></tr>\n<tr>\n<td>M2L\n</td>\n<td>North York\n</td>\n<td>York Mills, Silver Hills\n</td></tr>\n<tr>\n<td>M3L\n</td>\n<td>North York\n</td>\n<td>Downsview\n</td></tr>\n<tr>\n<td>M4L\n</td>\n<td>East Toronto\n</td>\n<td>India Bazaar, The Beaches West\n</td></tr>\n<tr>\n<td>M5L\n</td>\n<td>Downtown Toronto\n</td>\n<td>Commerce Court, Victoria Hotel\n</td></tr>\n<tr>\n<td>M6L\n</td>\n<td>North York\n</td>\n<td>North Park, Maple Leaf Park, Upwood Park\n</td></tr>\n<tr>\n<td>M7L\n</td>\n<td>Not assigned\n</td>\n<td>\n</td></tr>\n<tr>\n<td>M8L\n</td>\n<td>Not assigned\n</td>\n<td>\n</td></tr>\n<tr>\n<td>M9L\n</td>\n<td>North York\n</td>\n<td>Humber Summit\n</td></tr>\n<tr>\n<td>M1M\n</td>\n<td>Scarborough\n</td>\n<td>Cliffside, Cliffcrest, Scarborough Village West\n</td></tr>\n<tr>\n<td>M2M\n</td>\n<td>North York\n</td>\n<td>Willowdale, Newtonbrook\n</td></tr>\n<tr>\n<td>M3M\n</td>\n<td>North York\n</td>\n<td>Downsview\n</td></tr>\n<tr>\n<td>M4M\n</td>\n<td>East Toronto\n</td>\n<td>Studio District\n</td></tr>\n<tr>\n<td>M5M\n</td>\n<td>North York\n</td>\n<td>Bedford Park, Lawrence Manor East\n</td></tr>\n<tr>\n<td>M6M\n</td>\n<td>York\n</td>\n<td>Del Ray, Mount Dennis, Keelsdale and Silverthorn\n</td></tr>\n<tr>\n<td>M7M\n</td>\n<td>Not assigned\n</td>\n<td>\n</td></tr>\n<tr>\n<td>M8M\n</td>\n<td>Not assigned\n</td>\n<td>\n</td></tr>\n<tr>\n<td>M9M\n</td>\n<td>North York\n</td>\n<td>Humberlea, Emery\n</td></tr>\n<tr>\n<td>M1N\n</td>\n<td>Scarborough\n</td>\n<td>Birch Cliff, Cliffside West\n</td></tr>\n<tr>\n<td>M2N\n</td>\n<td>North York\n</td>\n<td>Willowdale, Willowdale East\n</td></tr>\n<tr>\n<td>M3N\n</td>\n<td>North York\n</td>\n<td>Downsview\n</td></tr>\n<tr>\n<td>M4N\n</td>\n<td>Central Toronto\n</td>\n<td>Lawrence Park\n</td></tr>\n<tr>\n<td>M5N\n</td>\n<td>Central Toronto\n</td>\n<td>Roselawn\n</td></tr>\n<tr>\n<td>M6N\n</td>\n<td>York\n</td>\n<td>Runnymede, The Junction North\n</td></tr>\n<tr>\n<td>M7N\n</td>\n<td>Not assigned\n</td>\n<td>\n</td></tr>\n<tr>\n<td>M8N\n</td>\n<td>Not assigned\n</td>\n<td>\n</td></tr>\n<tr>\n<td>M9N\n</td>\n<td>York\n</td>\n<td>Weston\n</td></tr>\n<tr>\n<td>M1P\n</td>\n<td>Scarborough\n</td>\n<td>Dorset Park, Wexford Heights, Scarborough Town Centre\n</td></tr>\n<tr>\n<td>M2P\n</td>\n<td>North York\n</td>\n<td>York Mills West\n</td></tr>\n<tr>\n<td>M3P\n</td>\n<td>Not assigned\n</td>\n<td>\n</td></tr>\n<tr>\n<td>M4P\n</td>\n<td>Central Toronto\n</td>\n<td>Davisville North\n</td></tr>\n<tr>\n<td>M5P\n</td>\n<td>Central Toronto\n</td>\n<td>Forest Hill North &amp; West, Forest Hill Road Park\n</td></tr>\n<tr>\n<td>M6P\n</td>\n<td>West Toronto\n</td>\n<td>High Park, The Junction South\n</td></tr>\n<tr>\n<td>M7P\n</td>\n<td>Not assigned\n</td>\n<td>\n</td></tr>\n<tr>\n<td>M8P\n</td>\n<td>Not assigned\n</td>\n<td>\n</td></tr>\n<tr>\n<td>M9P\n</td>\n<td>Etobicoke\n</td>\n<td>Westmount\n</td></tr>\n<tr>\n<td>M1R\n</td>\n<td>Scarborough\n</td>\n<td>Wexford, Maryvale\n</td></tr>\n<tr>\n<td>M2R\n</td>\n<td>North York\n</td>\n<td>Willowdale, Willowdale West\n</td></tr>\n<tr>\n<td>M3R\n</td>\n<td>Not assigned\n</td>\n<td>\n</td></tr>\n<tr>\n<td>M4R\n</td>\n<td>Central Toronto\n</td>\n<td>North Toronto West,  Lawrence Park\n</td></tr>\n<tr>\n<td>M5R\n</td>\n<td>Central Toronto\n</td>\n<td>The Annex, North Midtown, Yorkville\n</td></tr>\n<tr>\n<td>M6R\n</td>\n<td>West Toronto\n</td>\n<td>Parkdale, Roncesvalles\n</td></tr>\n<tr>\n<td>M7R\n</td>\n<td>Mississauga\n</td>\n<td>Canada Post Gateway Processing Centre\n</td></tr>\n<tr>\n<td>M8R\n</td>\n<td>Not assigned\n</td>\n<td>\n</td></tr>\n<tr>\n<td>M9R\n</td>\n<td>Etobicoke\n</td>\n<td>Kingsview Village, St. Phillips, Martin Grove Gardens, Richview Gardens\n</td></tr>\n<tr>\n<td>M1S\n</td>\n<td>Scarborough\n</td>\n<td>Agincourt\n</td></tr>\n<tr>\n<td>M2S\n</td>\n<td>Not assigned\n</td>\n<td>\n</td></tr>\n<tr>\n<td>M3S\n</td>\n<td>Not assigned\n</td>\n<td>\n</td></tr>\n<tr>\n<td>M4S\n</td>\n<td>Central Toronto\n</td>\n<td>Davisville\n</td></tr>\n<tr>\n<td>M5S\n</td>\n<td>Downtown Toronto\n</td>\n<td>University of Toronto, Harbord\n</td></tr>\n<tr>\n<td>M6S\n</td>\n<td>West Toronto\n</td>\n<td>Runnymede, Swansea\n</td></tr>\n<tr>\n<td>M7S\n</td>\n<td>Not assigned\n</td>\n<td>\n</td></tr>\n<tr>\n<td>M8S\n</td>\n<td>Not assigned\n</td>\n<td>\n</td></tr>\n<tr>\n<td>M9S\n</td>\n<td>Not assigned\n</td>\n<td>\n</td></tr>\n<tr>\n<td>M1T\n</td>\n<td>Scarborough\n</td>\n<td>Clarks Corners, Tam O'Shanter, Sullivan\n</td></tr>\n<tr>\n<td>M2T\n</td>\n<td>Not assigned\n</td>\n<td>\n</td></tr>\n<tr>\n<td>M3T\n</td>\n<td>Not assigned\n</td>\n<td>\n</td></tr>\n<tr>\n<td>M4T\n</td>\n<td>Central Toronto\n</td>\n<td>Moore Park, Summerhill East\n</td></tr>\n<tr>\n<td>M5T\n</td>\n<td>Downtown Toronto\n</td>\n<td>Kensington Market, Chinatown, Grange Park\n</td></tr>\n<tr>\n<td>M6T\n</td>\n<td>Not assigned\n</td>\n<td>\n</td></tr>\n<tr>\n<td>M7T\n</td>\n<td>Not assigned\n</td>\n<td>\n</td></tr>\n<tr>\n<td>M8T\n</td>\n<td>Not assigned\n</td>\n<td>\n</td></tr>\n<tr>\n<td>M9T\n</td>\n<td>Not assigned\n</td>\n<td>\n</td></tr>\n<tr>\n<td>M1V\n</td>\n<td>Scarborough\n</td>\n<td>Milliken, Agincourt North, Steeles East, L'Amoreaux East\n</td></tr>\n<tr>\n<td>M2V\n</td>\n<td>Not assigned\n</td>\n<td>\n</td></tr>\n<tr>\n<td>M3V\n</td>\n<td>Not assigned\n</td>\n<td>\n</td></tr>\n<tr>\n<td>M4V\n</td>\n<td>Central Toronto\n</td>\n<td>Summerhill West, Rathnelly, South Hill, Forest Hill SE, Deer Park\n</td></tr>\n<tr>\n<td>M5V\n</td>\n<td>Downtown Toronto\n</td>\n<td>CN Tower, King and Spadina, Railway Lands, Harbourfront West, Bathurst Quay, South Niagara, Island airport\n</td></tr>\n<tr>\n<td>M6V\n</td>\n<td>Not assigned\n</td>\n<td>\n</td></tr>\n<tr>\n<td>M7V\n</td>\n<td>Not assigned\n</td>\n<td>\n</td></tr>\n<tr>\n<td>M8V\n</td>\n<td>Etobicoke\n</td>\n<td>New Toronto, Mimico South, Humber Bay Shores\n</td></tr>\n<tr>\n<td>M9V\n</td>\n<td>Etobicoke\n</td>\n<td>South Steeles, Silverstone, Humbergate, Jamestown, Mount Olive, Beaumond Heights, Thistletown, Albion Gardens\n</td></tr>\n<tr>\n<td>M1W\n</td>\n<td>Scarborough\n</td>\n<td>Steeles West, L'Amoreaux West\n</td></tr>\n<tr>\n<td>M2W\n</td>\n<td>Not assigned\n</td>\n<td>\n</td></tr>\n<tr>\n<td>M3W\n</td>\n<td>Not assigned\n</td>\n<td>\n</td></tr>\n<tr>\n<td>M4W\n</td>\n<td>Downtown Toronto\n</td>\n<td>Rosedale\n</td></tr>\n<tr>\n<td>M5W\n</td>\n<td>Downtown Toronto\n</td>\n<td>Stn A PO Boxes\n</td></tr>\n<tr>\n<td>M6W\n</td>\n<td>Not assigned\n</td>\n<td>\n</td></tr>\n<tr>\n<td>M7W\n</td>\n<td>Not assigned\n</td>\n<td>\n</td></tr>\n<tr>\n<td>M8W\n</td>\n<td>Etobicoke\n</td>\n<td>Alderwood, Long Branch\n</td></tr>\n<tr>\n<td>M9W\n</td>\n<td>Etobicoke\n</td>\n<td>Northwest, West Humber - Clairville\n</td></tr>\n<tr>\n<td>M1X\n</td>\n<td>Scarborough\n</td>\n<td>Upper Rouge\n</td></tr>\n<tr>\n<td>M2X\n</td>\n<td>Not assigned\n</td>\n<td>\n</td></tr>\n<tr>\n<td>M3X\n</td>\n<td>Not assigned\n</td>\n<td>\n</td></tr>\n<tr>\n<td>M4X\n</td>\n<td>Downtown Toronto\n</td>\n<td>St. James Town, Cabbagetown\n</td></tr>\n<tr>\n<td>M5X\n</td>\n<td>Downtown Toronto\n</td>\n<td>First Canadian Place, Underground city\n</td></tr>\n<tr>\n<td>M6X\n</td>\n<td>Not assigned\n</td>\n<td>\n</td></tr>\n<tr>\n<td>M7X\n</td>\n<td>Not assigned\n</td>\n<td>\n</td></tr>\n<tr>\n<td>M8X\n</td>\n<td>Etobicoke\n</td>\n<td>The Kingsway, Montgomery Road, Old Mill North\n</td></tr>\n<tr>\n<td>M9X\n</td>\n<td>Not assigned\n</td>\n<td>\n</td></tr>\n<tr>\n<td>M1Y\n</td>\n<td>Not assigned\n</td>\n<td>\n</td></tr>\n<tr>\n<td>M2Y\n</td>\n<td>Not assigned\n</td>\n<td>\n</td></tr>\n<tr>\n<td>M3Y\n</td>\n<td>Not assigned\n</td>\n<td>\n</td></tr>\n<tr>\n<td>M4Y\n</td>\n<td>Downtown Toronto\n</td>\n<td>Church and Wellesley\n</td></tr>\n<tr>\n<td>M5Y\n</td>\n<td>Not assigned\n</td>\n<td>\n</td></tr>\n<tr>\n<td>M6Y\n</td>\n<td>Not assigned\n</td>\n<td>\n</td></tr>\n<tr>\n<td>M7Y\n</td>\n<td>East Toronto\n</td>\n<td>Business reply mail Processing Centre, South Central Letter Processing Plant Toronto\n</td></tr>\n<tr>\n<td>M8Y\n</td>\n<td>Etobicoke\n</td>\n<td>Old Mill South, King's Mill Park, Sunnylea, Humber Bay, Mimico NE, The Queensway East, Royal York South East, Kingsway Park South East\n</td></tr>\n<tr>\n<td>M9Y\n</td>\n<td>Not assigned\n</td>\n<td>\n</td></tr>\n<tr>\n<td>M1Z\n</td>\n<td>Not assigned\n</td>\n<td>\n</td></tr>\n<tr>\n<td>M2Z\n</td>\n<td>Not assigned\n</td>\n<td>\n</td></tr>\n<tr>\n<td>M3Z\n</td>\n<td>Not assigned\n</td>\n<td>\n</td></tr>\n<tr>\n<td>M4Z\n</td>\n<td>Not assigned\n</td>\n<td>\n</td></tr>\n<tr>\n<td>M5Z\n</td>\n<td>Not assigned\n</td>\n<td>\n</td></tr>\n<tr>\n<td>M6Z\n</td>\n<td>Not assigned\n</td>\n<td>\n</td></tr>\n<tr>\n<td>M7Z\n</td>\n<td>Not assigned\n</td>\n<td>\n</td></tr>\n<tr>\n<td>M8Z\n</td>\n<td>Etobicoke\n</td>\n<td>Mimico NW, The Queensway West, South of Bloor, Kingsway Park South West, Royal York South West\n</td></tr>\n<tr>\n<td>M9Z\n</td>\n<td>Not assigned\n</td>\n<td>\n</td></tr></tbody></table>]\n",
          "name": "stdout"
        }
      ]
    },
    {
      "metadata": {
        "trusted": true
      },
      "cell_type": "code",
      "source": "for row in tables:\n    row_td = row.find_all('tr')\nprint(row_td)\ntype(row_td)",
      "execution_count": 173,
      "outputs": [
        {
          "output_type": "stream",
          "text": "[<tr>\n<th>Postal Code\n</th>\n<th>Borough\n</th>\n<th>Neighborhood\n</th></tr>, <tr>\n<td>M1A\n</td>\n<td>Not assigned\n</td>\n<td>\n</td></tr>, <tr>\n<td>M2A\n</td>\n<td>Not assigned\n</td>\n<td>\n</td></tr>, <tr>\n<td>M3A\n</td>\n<td>North York\n</td>\n<td>Parkwoods\n</td></tr>, <tr>\n<td>M4A\n</td>\n<td>North York\n</td>\n<td>Victoria Village\n</td></tr>, <tr>\n<td>M5A\n</td>\n<td>Downtown Toronto\n</td>\n<td>Regent Park, Harbourfront\n</td></tr>, <tr>\n<td>M6A\n</td>\n<td>North York\n</td>\n<td>Lawrence Manor, Lawrence Heights\n</td></tr>, <tr>\n<td>M7A\n</td>\n<td>Downtown Toronto\n</td>\n<td>Queen's Park, Ontario Provincial Government\n</td></tr>, <tr>\n<td>M8A\n</td>\n<td>Not assigned\n</td>\n<td>\n</td></tr>, <tr>\n<td>M9A\n</td>\n<td>Etobicoke\n</td>\n<td>Islington Avenue, Humber Valley Village\n</td></tr>, <tr>\n<td>M1B\n</td>\n<td>Scarborough\n</td>\n<td>Malvern, Rouge\n</td></tr>, <tr>\n<td>M2B\n</td>\n<td>Not assigned\n</td>\n<td>\n</td></tr>, <tr>\n<td>M3B\n</td>\n<td>North York\n</td>\n<td>Don Mills\n</td></tr>, <tr>\n<td>M4B\n</td>\n<td>East York\n</td>\n<td>Parkview Hill, Woodbine Gardens\n</td></tr>, <tr>\n<td>M5B\n</td>\n<td>Downtown Toronto\n</td>\n<td>Garden District, Ryerson\n</td></tr>, <tr>\n<td>M6B\n</td>\n<td>North York\n</td>\n<td>Glencairn\n</td></tr>, <tr>\n<td>M7B\n</td>\n<td>Not assigned\n</td>\n<td>\n</td></tr>, <tr>\n<td>M8B\n</td>\n<td>Not assigned\n</td>\n<td>\n</td></tr>, <tr>\n<td>M9B\n</td>\n<td>Etobicoke\n</td>\n<td>West Deane Park, Princess Gardens, Martin Grove, Islington, Cloverdale\n</td></tr>, <tr>\n<td>M1C\n</td>\n<td>Scarborough\n</td>\n<td>Rouge Hill, Port Union, Highland Creek\n</td></tr>, <tr>\n<td>M2C\n</td>\n<td>Not assigned\n</td>\n<td>\n</td></tr>, <tr>\n<td>M3C\n</td>\n<td>North York\n</td>\n<td>Don Mills\n</td></tr>, <tr>\n<td>M4C\n</td>\n<td>East York\n</td>\n<td>Woodbine Heights\n</td></tr>, <tr>\n<td>M5C\n</td>\n<td>Downtown Toronto\n</td>\n<td>St. James Town\n</td></tr>, <tr>\n<td>M6C\n</td>\n<td>York\n</td>\n<td>Humewood-Cedarvale\n</td></tr>, <tr>\n<td>M7C\n</td>\n<td>Not assigned\n</td>\n<td>\n</td></tr>, <tr>\n<td>M8C\n</td>\n<td>Not assigned\n</td>\n<td>\n</td></tr>, <tr>\n<td>M9C\n</td>\n<td>Etobicoke\n</td>\n<td>Eringate, Bloordale Gardens, Old Burnhamthorpe, Markland Wood\n</td></tr>, <tr>\n<td>M1E\n</td>\n<td>Scarborough\n</td>\n<td>Guildwood, Morningside, West Hill\n</td></tr>, <tr>\n<td>M2E\n</td>\n<td>Not assigned\n</td>\n<td>\n</td></tr>, <tr>\n<td>M3E\n</td>\n<td>Not assigned\n</td>\n<td>\n</td></tr>, <tr>\n<td>M4E\n</td>\n<td>East Toronto\n</td>\n<td>The Beaches\n</td></tr>, <tr>\n<td>M5E\n</td>\n<td>Downtown Toronto\n</td>\n<td>Berczy Park\n</td></tr>, <tr>\n<td>M6E\n</td>\n<td>York\n</td>\n<td>Caledonia-Fairbanks\n</td></tr>, <tr>\n<td>M7E\n</td>\n<td>Not assigned\n</td>\n<td>\n</td></tr>, <tr>\n<td>M8E\n</td>\n<td>Not assigned\n</td>\n<td>\n</td></tr>, <tr>\n<td>M9E\n</td>\n<td>Not assigned\n</td>\n<td>\n</td></tr>, <tr>\n<td>M1G\n</td>\n<td>Scarborough\n</td>\n<td>Woburn\n</td></tr>, <tr>\n<td>M2G\n</td>\n<td>Not assigned\n</td>\n<td>\n</td></tr>, <tr>\n<td>M3G\n</td>\n<td>Not assigned\n</td>\n<td>\n</td></tr>, <tr>\n<td>M4G\n</td>\n<td>East York\n</td>\n<td>Leaside\n</td></tr>, <tr>\n<td>M5G\n</td>\n<td>Downtown Toronto\n</td>\n<td>Central Bay Street\n</td></tr>, <tr>\n<td>M6G\n</td>\n<td>Downtown Toronto\n</td>\n<td>Christie\n</td></tr>, <tr>\n<td>M7G\n</td>\n<td>Not assigned\n</td>\n<td>\n</td></tr>, <tr>\n<td>M8G\n</td>\n<td>Not assigned\n</td>\n<td>\n</td></tr>, <tr>\n<td>M9G\n</td>\n<td>Not assigned\n</td>\n<td>\n</td></tr>, <tr>\n<td>M1H\n</td>\n<td>Scarborough\n</td>\n<td>Cedarbrae\n</td></tr>, <tr>\n<td>M2H\n</td>\n<td>North York\n</td>\n<td>Hillcrest Village\n</td></tr>, <tr>\n<td>M3H\n</td>\n<td>North York\n</td>\n<td>Bathurst Manor, Wilson Heights, Downsview North\n</td></tr>, <tr>\n<td>M4H\n</td>\n<td>East York\n</td>\n<td>Thorncliffe Park\n</td></tr>, <tr>\n<td>M5H\n</td>\n<td>Downtown Toronto\n</td>\n<td>Richmond, Adelaide, King\n</td></tr>, <tr>\n<td>M6H\n</td>\n<td>West Toronto\n</td>\n<td>Dufferin, Dovercourt Village\n</td></tr>, <tr>\n<td>M7H\n</td>\n<td>Not assigned\n</td>\n<td>\n</td></tr>, <tr>\n<td>M8H\n</td>\n<td>Not assigned\n</td>\n<td>\n</td></tr>, <tr>\n<td>M9H\n</td>\n<td>Not assigned\n</td>\n<td>\n</td></tr>, <tr>\n<td>M1J\n</td>\n<td>Scarborough\n</td>\n<td>Scarborough Village\n</td></tr>, <tr>\n<td>M2J\n</td>\n<td>North York\n</td>\n<td>Fairview, Henry Farm, Oriole\n</td></tr>, <tr>\n<td>M3J\n</td>\n<td>North York\n</td>\n<td>Northwood Park, York University\n</td></tr>, <tr>\n<td>M4J\n</td>\n<td>East York\n</td>\n<td>East Toronto, Broadview North (Old East York)\n</td></tr>, <tr>\n<td>M5J\n</td>\n<td>Downtown Toronto\n</td>\n<td>Harbourfront East, Union Station, Toronto Islands\n</td></tr>, <tr>\n<td>M6J\n</td>\n<td>West Toronto\n</td>\n<td>Little Portugal, Trinity\n</td></tr>, <tr>\n<td>M7J\n</td>\n<td>Not assigned\n</td>\n<td>\n</td></tr>, <tr>\n<td>M8J\n</td>\n<td>Not assigned\n</td>\n<td>\n</td></tr>, <tr>\n<td>M9J\n</td>\n<td>Not assigned\n</td>\n<td>\n</td></tr>, <tr>\n<td>M1K\n</td>\n<td>Scarborough\n</td>\n<td>Kennedy Park, Ionview, East Birchmount Park\n</td></tr>, <tr>\n<td>M2K\n</td>\n<td>North York\n</td>\n<td>Bayview Village\n</td></tr>, <tr>\n<td>M3K\n</td>\n<td>North York\n</td>\n<td>Downsview\n</td></tr>, <tr>\n<td>M4K\n</td>\n<td>East Toronto\n</td>\n<td>The Danforth West, Riverdale\n</td></tr>, <tr>\n<td>M5K\n</td>\n<td>Downtown Toronto\n</td>\n<td>Toronto Dominion Centre, Design Exchange\n</td></tr>, <tr>\n<td>M6K\n</td>\n<td>West Toronto\n</td>\n<td>Brockton, Parkdale Village, Exhibition Place\n</td></tr>, <tr>\n<td>M7K\n</td>\n<td>Not assigned\n</td>\n<td>\n</td></tr>, <tr>\n<td>M8K\n</td>\n<td>Not assigned\n</td>\n<td>\n</td></tr>, <tr>\n<td>M9K\n</td>\n<td>Not assigned\n</td>\n<td>\n</td></tr>, <tr>\n<td>M1L\n</td>\n<td>Scarborough\n</td>\n<td>Golden Mile, Clairlea, Oakridge\n</td></tr>, <tr>\n<td>M2L\n</td>\n<td>North York\n</td>\n<td>York Mills, Silver Hills\n</td></tr>, <tr>\n<td>M3L\n</td>\n<td>North York\n</td>\n<td>Downsview\n</td></tr>, <tr>\n<td>M4L\n</td>\n<td>East Toronto\n</td>\n<td>India Bazaar, The Beaches West\n</td></tr>, <tr>\n<td>M5L\n</td>\n<td>Downtown Toronto\n</td>\n<td>Commerce Court, Victoria Hotel\n</td></tr>, <tr>\n<td>M6L\n</td>\n<td>North York\n</td>\n<td>North Park, Maple Leaf Park, Upwood Park\n</td></tr>, <tr>\n<td>M7L\n</td>\n<td>Not assigned\n</td>\n<td>\n</td></tr>, <tr>\n<td>M8L\n</td>\n<td>Not assigned\n</td>\n<td>\n</td></tr>, <tr>\n<td>M9L\n</td>\n<td>North York\n</td>\n<td>Humber Summit\n</td></tr>, <tr>\n<td>M1M\n</td>\n<td>Scarborough\n</td>\n<td>Cliffside, Cliffcrest, Scarborough Village West\n</td></tr>, <tr>\n<td>M2M\n</td>\n<td>North York\n</td>\n<td>Willowdale, Newtonbrook\n</td></tr>, <tr>\n<td>M3M\n</td>\n<td>North York\n</td>\n<td>Downsview\n</td></tr>, <tr>\n<td>M4M\n</td>\n<td>East Toronto\n</td>\n<td>Studio District\n</td></tr>, <tr>\n<td>M5M\n</td>\n<td>North York\n</td>\n<td>Bedford Park, Lawrence Manor East\n</td></tr>, <tr>\n<td>M6M\n</td>\n<td>York\n</td>\n<td>Del Ray, Mount Dennis, Keelsdale and Silverthorn\n</td></tr>, <tr>\n<td>M7M\n</td>\n<td>Not assigned\n</td>\n<td>\n</td></tr>, <tr>\n<td>M8M\n</td>\n<td>Not assigned\n</td>\n<td>\n</td></tr>, <tr>\n<td>M9M\n</td>\n<td>North York\n</td>\n<td>Humberlea, Emery\n</td></tr>, <tr>\n<td>M1N\n</td>\n<td>Scarborough\n</td>\n<td>Birch Cliff, Cliffside West\n</td></tr>, <tr>\n<td>M2N\n</td>\n<td>North York\n</td>\n<td>Willowdale, Willowdale East\n</td></tr>, <tr>\n<td>M3N\n</td>\n<td>North York\n</td>\n<td>Downsview\n</td></tr>, <tr>\n<td>M4N\n</td>\n<td>Central Toronto\n</td>\n<td>Lawrence Park\n</td></tr>, <tr>\n<td>M5N\n</td>\n<td>Central Toronto\n</td>\n<td>Roselawn\n</td></tr>, <tr>\n<td>M6N\n</td>\n<td>York\n</td>\n<td>Runnymede, The Junction North\n</td></tr>, <tr>\n<td>M7N\n</td>\n<td>Not assigned\n</td>\n<td>\n</td></tr>, <tr>\n<td>M8N\n</td>\n<td>Not assigned\n</td>\n<td>\n</td></tr>, <tr>\n<td>M9N\n</td>\n<td>York\n</td>\n<td>Weston\n</td></tr>, <tr>\n<td>M1P\n</td>\n<td>Scarborough\n</td>\n<td>Dorset Park, Wexford Heights, Scarborough Town Centre\n</td></tr>, <tr>\n<td>M2P\n</td>\n<td>North York\n</td>\n<td>York Mills West\n</td></tr>, <tr>\n<td>M3P\n</td>\n<td>Not assigned\n</td>\n<td>\n</td></tr>, <tr>\n<td>M4P\n</td>\n<td>Central Toronto\n</td>\n<td>Davisville North\n</td></tr>, <tr>\n<td>M5P\n</td>\n<td>Central Toronto\n</td>\n<td>Forest Hill North &amp; West, Forest Hill Road Park\n</td></tr>, <tr>\n<td>M6P\n</td>\n<td>West Toronto\n</td>\n<td>High Park, The Junction South\n</td></tr>, <tr>\n<td>M7P\n</td>\n<td>Not assigned\n</td>\n<td>\n</td></tr>, <tr>\n<td>M8P\n</td>\n<td>Not assigned\n</td>\n<td>\n</td></tr>, <tr>\n<td>M9P\n</td>\n<td>Etobicoke\n</td>\n<td>Westmount\n</td></tr>, <tr>\n<td>M1R\n</td>\n<td>Scarborough\n</td>\n<td>Wexford, Maryvale\n</td></tr>, <tr>\n<td>M2R\n</td>\n<td>North York\n</td>\n<td>Willowdale, Willowdale West\n</td></tr>, <tr>\n<td>M3R\n</td>\n<td>Not assigned\n</td>\n<td>\n</td></tr>, <tr>\n<td>M4R\n</td>\n<td>Central Toronto\n</td>\n<td>North Toronto West,  Lawrence Park\n</td></tr>, <tr>\n<td>M5R\n</td>\n<td>Central Toronto\n</td>\n<td>The Annex, North Midtown, Yorkville\n</td></tr>, <tr>\n<td>M6R\n</td>\n<td>West Toronto\n</td>\n<td>Parkdale, Roncesvalles\n</td></tr>, <tr>\n<td>M7R\n</td>\n<td>Mississauga\n</td>\n<td>Canada Post Gateway Processing Centre\n</td></tr>, <tr>\n<td>M8R\n</td>\n<td>Not assigned\n</td>\n<td>\n</td></tr>, <tr>\n<td>M9R\n</td>\n<td>Etobicoke\n</td>\n<td>Kingsview Village, St. Phillips, Martin Grove Gardens, Richview Gardens\n</td></tr>, <tr>\n<td>M1S\n</td>\n<td>Scarborough\n</td>\n<td>Agincourt\n</td></tr>, <tr>\n<td>M2S\n</td>\n<td>Not assigned\n</td>\n<td>\n</td></tr>, <tr>\n<td>M3S\n</td>\n<td>Not assigned\n</td>\n<td>\n</td></tr>, <tr>\n<td>M4S\n</td>\n<td>Central Toronto\n</td>\n<td>Davisville\n</td></tr>, <tr>\n<td>M5S\n</td>\n<td>Downtown Toronto\n</td>\n<td>University of Toronto, Harbord\n</td></tr>, <tr>\n<td>M6S\n</td>\n<td>West Toronto\n</td>\n<td>Runnymede, Swansea\n</td></tr>, <tr>\n<td>M7S\n</td>\n<td>Not assigned\n</td>\n<td>\n</td></tr>, <tr>\n<td>M8S\n</td>\n<td>Not assigned\n</td>\n<td>\n</td></tr>, <tr>\n<td>M9S\n</td>\n<td>Not assigned\n</td>\n<td>\n</td></tr>, <tr>\n<td>M1T\n</td>\n<td>Scarborough\n</td>\n<td>Clarks Corners, Tam O'Shanter, Sullivan\n</td></tr>, <tr>\n<td>M2T\n</td>\n<td>Not assigned\n</td>\n<td>\n</td></tr>, <tr>\n<td>M3T\n</td>\n<td>Not assigned\n</td>\n<td>\n</td></tr>, <tr>\n<td>M4T\n</td>\n<td>Central Toronto\n</td>\n<td>Moore Park, Summerhill East\n</td></tr>, <tr>\n<td>M5T\n</td>\n<td>Downtown Toronto\n</td>\n<td>Kensington Market, Chinatown, Grange Park\n</td></tr>, <tr>\n<td>M6T\n</td>\n<td>Not assigned\n</td>\n<td>\n</td></tr>, <tr>\n<td>M7T\n</td>\n<td>Not assigned\n</td>\n<td>\n</td></tr>, <tr>\n<td>M8T\n</td>\n<td>Not assigned\n</td>\n<td>\n</td></tr>, <tr>\n<td>M9T\n</td>\n<td>Not assigned\n</td>\n<td>\n</td></tr>, <tr>\n<td>M1V\n</td>\n<td>Scarborough\n</td>\n<td>Milliken, Agincourt North, Steeles East, L'Amoreaux East\n</td></tr>, <tr>\n<td>M2V\n</td>\n<td>Not assigned\n</td>\n<td>\n</td></tr>, <tr>\n<td>M3V\n</td>\n<td>Not assigned\n</td>\n<td>\n</td></tr>, <tr>\n<td>M4V\n</td>\n<td>Central Toronto\n</td>\n<td>Summerhill West, Rathnelly, South Hill, Forest Hill SE, Deer Park\n</td></tr>, <tr>\n<td>M5V\n</td>\n<td>Downtown Toronto\n</td>\n<td>CN Tower, King and Spadina, Railway Lands, Harbourfront West, Bathurst Quay, South Niagara, Island airport\n</td></tr>, <tr>\n<td>M6V\n</td>\n<td>Not assigned\n</td>\n<td>\n</td></tr>, <tr>\n<td>M7V\n</td>\n<td>Not assigned\n</td>\n<td>\n</td></tr>, <tr>\n<td>M8V\n</td>\n<td>Etobicoke\n</td>\n<td>New Toronto, Mimico South, Humber Bay Shores\n</td></tr>, <tr>\n<td>M9V\n</td>\n<td>Etobicoke\n</td>\n<td>South Steeles, Silverstone, Humbergate, Jamestown, Mount Olive, Beaumond Heights, Thistletown, Albion Gardens\n</td></tr>, <tr>\n<td>M1W\n</td>\n<td>Scarborough\n</td>\n<td>Steeles West, L'Amoreaux West\n</td></tr>, <tr>\n<td>M2W\n</td>\n<td>Not assigned\n</td>\n<td>\n</td></tr>, <tr>\n<td>M3W\n</td>\n<td>Not assigned\n</td>\n<td>\n</td></tr>, <tr>\n<td>M4W\n</td>\n<td>Downtown Toronto\n</td>\n<td>Rosedale\n</td></tr>, <tr>\n<td>M5W\n</td>\n<td>Downtown Toronto\n</td>\n<td>Stn A PO Boxes\n</td></tr>, <tr>\n<td>M6W\n</td>\n<td>Not assigned\n</td>\n<td>\n</td></tr>, <tr>\n<td>M7W\n</td>\n<td>Not assigned\n</td>\n<td>\n</td></tr>, <tr>\n<td>M8W\n</td>\n<td>Etobicoke\n</td>\n<td>Alderwood, Long Branch\n</td></tr>, <tr>\n<td>M9W\n</td>\n<td>Etobicoke\n</td>\n<td>Northwest, West Humber - Clairville\n</td></tr>, <tr>\n<td>M1X\n</td>\n<td>Scarborough\n</td>\n<td>Upper Rouge\n</td></tr>, <tr>\n<td>M2X\n</td>\n<td>Not assigned\n</td>\n<td>\n</td></tr>, <tr>\n<td>M3X\n</td>\n<td>Not assigned\n</td>\n<td>\n</td></tr>, <tr>\n<td>M4X\n</td>\n<td>Downtown Toronto\n</td>\n<td>St. James Town, Cabbagetown\n</td></tr>, <tr>\n<td>M5X\n</td>\n<td>Downtown Toronto\n</td>\n<td>First Canadian Place, Underground city\n</td></tr>, <tr>\n<td>M6X\n</td>\n<td>Not assigned\n</td>\n<td>\n</td></tr>, <tr>\n<td>M7X\n</td>\n<td>Not assigned\n</td>\n<td>\n</td></tr>, <tr>\n<td>M8X\n</td>\n<td>Etobicoke\n</td>\n<td>The Kingsway, Montgomery Road, Old Mill North\n</td></tr>, <tr>\n<td>M9X\n</td>\n<td>Not assigned\n</td>\n<td>\n</td></tr>, <tr>\n<td>M1Y\n</td>\n<td>Not assigned\n</td>\n<td>\n</td></tr>, <tr>\n<td>M2Y\n</td>\n<td>Not assigned\n</td>\n<td>\n</td></tr>, <tr>\n<td>M3Y\n</td>\n<td>Not assigned\n</td>\n<td>\n</td></tr>, <tr>\n<td>M4Y\n</td>\n<td>Downtown Toronto\n</td>\n<td>Church and Wellesley\n</td></tr>, <tr>\n<td>M5Y\n</td>\n<td>Not assigned\n</td>\n<td>\n</td></tr>, <tr>\n<td>M6Y\n</td>\n<td>Not assigned\n</td>\n<td>\n</td></tr>, <tr>\n<td>M7Y\n</td>\n<td>East Toronto\n</td>\n<td>Business reply mail Processing Centre, South Central Letter Processing Plant Toronto\n</td></tr>, <tr>\n<td>M8Y\n</td>\n<td>Etobicoke\n</td>\n<td>Old Mill South, King's Mill Park, Sunnylea, Humber Bay, Mimico NE, The Queensway East, Royal York South East, Kingsway Park South East\n</td></tr>, <tr>\n<td>M9Y\n</td>\n<td>Not assigned\n</td>\n<td>\n</td></tr>, <tr>\n<td>M1Z\n</td>\n<td>Not assigned\n</td>\n<td>\n</td></tr>, <tr>\n<td>M2Z\n</td>\n<td>Not assigned\n</td>\n<td>\n</td></tr>, <tr>\n<td>M3Z\n</td>\n<td>Not assigned\n</td>\n<td>\n</td></tr>, <tr>\n<td>M4Z\n</td>\n<td>Not assigned\n</td>\n<td>\n</td></tr>, <tr>\n<td>M5Z\n</td>\n<td>Not assigned\n</td>\n<td>\n</td></tr>, <tr>\n<td>M6Z\n</td>\n<td>Not assigned\n</td>\n<td>\n</td></tr>, <tr>\n<td>M7Z\n</td>\n<td>Not assigned\n</td>\n<td>\n</td></tr>, <tr>\n<td>M8Z\n</td>\n<td>Etobicoke\n</td>\n<td>Mimico NW, The Queensway West, South of Bloor, Kingsway Park South West, Royal York South West\n</td></tr>, <tr>\n<td>M9Z\n</td>\n<td>Not assigned\n</td>\n<td>\n</td></tr>]\n",
          "name": "stdout"
        },
        {
          "output_type": "execute_result",
          "execution_count": 173,
          "data": {
            "text/plain": "bs4.element.ResultSet"
          },
          "metadata": {}
        }
      ]
    },
    {
      "metadata": {
        "trusted": true
      },
      "cell_type": "code",
      "source": "str_cells = str(row_td)\ncleantext = BeautifulSoup(str_cells, \"lxml\").get_text()\nprint(cleantext)\ntype(cleantext)",
      "execution_count": 174,
      "outputs": [
        {
          "output_type": "stream",
          "text": "[\nPostal Code\n\nBorough\n\nNeighborhood\n, \nM1A\n\nNot assigned\n\n\n, \nM2A\n\nNot assigned\n\n\n, \nM3A\n\nNorth York\n\nParkwoods\n, \nM4A\n\nNorth York\n\nVictoria Village\n, \nM5A\n\nDowntown Toronto\n\nRegent Park, Harbourfront\n, \nM6A\n\nNorth York\n\nLawrence Manor, Lawrence Heights\n, \nM7A\n\nDowntown Toronto\n\nQueen's Park, Ontario Provincial Government\n, \nM8A\n\nNot assigned\n\n\n, \nM9A\n\nEtobicoke\n\nIslington Avenue, Humber Valley Village\n, \nM1B\n\nScarborough\n\nMalvern, Rouge\n, \nM2B\n\nNot assigned\n\n\n, \nM3B\n\nNorth York\n\nDon Mills\n, \nM4B\n\nEast York\n\nParkview Hill, Woodbine Gardens\n, \nM5B\n\nDowntown Toronto\n\nGarden District, Ryerson\n, \nM6B\n\nNorth York\n\nGlencairn\n, \nM7B\n\nNot assigned\n\n\n, \nM8B\n\nNot assigned\n\n\n, \nM9B\n\nEtobicoke\n\nWest Deane Park, Princess Gardens, Martin Grove, Islington, Cloverdale\n, \nM1C\n\nScarborough\n\nRouge Hill, Port Union, Highland Creek\n, \nM2C\n\nNot assigned\n\n\n, \nM3C\n\nNorth York\n\nDon Mills\n, \nM4C\n\nEast York\n\nWoodbine Heights\n, \nM5C\n\nDowntown Toronto\n\nSt. James Town\n, \nM6C\n\nYork\n\nHumewood-Cedarvale\n, \nM7C\n\nNot assigned\n\n\n, \nM8C\n\nNot assigned\n\n\n, \nM9C\n\nEtobicoke\n\nEringate, Bloordale Gardens, Old Burnhamthorpe, Markland Wood\n, \nM1E\n\nScarborough\n\nGuildwood, Morningside, West Hill\n, \nM2E\n\nNot assigned\n\n\n, \nM3E\n\nNot assigned\n\n\n, \nM4E\n\nEast Toronto\n\nThe Beaches\n, \nM5E\n\nDowntown Toronto\n\nBerczy Park\n, \nM6E\n\nYork\n\nCaledonia-Fairbanks\n, \nM7E\n\nNot assigned\n\n\n, \nM8E\n\nNot assigned\n\n\n, \nM9E\n\nNot assigned\n\n\n, \nM1G\n\nScarborough\n\nWoburn\n, \nM2G\n\nNot assigned\n\n\n, \nM3G\n\nNot assigned\n\n\n, \nM4G\n\nEast York\n\nLeaside\n, \nM5G\n\nDowntown Toronto\n\nCentral Bay Street\n, \nM6G\n\nDowntown Toronto\n\nChristie\n, \nM7G\n\nNot assigned\n\n\n, \nM8G\n\nNot assigned\n\n\n, \nM9G\n\nNot assigned\n\n\n, \nM1H\n\nScarborough\n\nCedarbrae\n, \nM2H\n\nNorth York\n\nHillcrest Village\n, \nM3H\n\nNorth York\n\nBathurst Manor, Wilson Heights, Downsview North\n, \nM4H\n\nEast York\n\nThorncliffe Park\n, \nM5H\n\nDowntown Toronto\n\nRichmond, Adelaide, King\n, \nM6H\n\nWest Toronto\n\nDufferin, Dovercourt Village\n, \nM7H\n\nNot assigned\n\n\n, \nM8H\n\nNot assigned\n\n\n, \nM9H\n\nNot assigned\n\n\n, \nM1J\n\nScarborough\n\nScarborough Village\n, \nM2J\n\nNorth York\n\nFairview, Henry Farm, Oriole\n, \nM3J\n\nNorth York\n\nNorthwood Park, York University\n, \nM4J\n\nEast York\n\nEast Toronto, Broadview North (Old East York)\n, \nM5J\n\nDowntown Toronto\n\nHarbourfront East, Union Station, Toronto Islands\n, \nM6J\n\nWest Toronto\n\nLittle Portugal, Trinity\n, \nM7J\n\nNot assigned\n\n\n, \nM8J\n\nNot assigned\n\n\n, \nM9J\n\nNot assigned\n\n\n, \nM1K\n\nScarborough\n\nKennedy Park, Ionview, East Birchmount Park\n, \nM2K\n\nNorth York\n\nBayview Village\n, \nM3K\n\nNorth York\n\nDownsview\n, \nM4K\n\nEast Toronto\n\nThe Danforth West, Riverdale\n, \nM5K\n\nDowntown Toronto\n\nToronto Dominion Centre, Design Exchange\n, \nM6K\n\nWest Toronto\n\nBrockton, Parkdale Village, Exhibition Place\n, \nM7K\n\nNot assigned\n\n\n, \nM8K\n\nNot assigned\n\n\n, \nM9K\n\nNot assigned\n\n\n, \nM1L\n\nScarborough\n\nGolden Mile, Clairlea, Oakridge\n, \nM2L\n\nNorth York\n\nYork Mills, Silver Hills\n, \nM3L\n\nNorth York\n\nDownsview\n, \nM4L\n\nEast Toronto\n\nIndia Bazaar, The Beaches West\n, \nM5L\n\nDowntown Toronto\n\nCommerce Court, Victoria Hotel\n, \nM6L\n\nNorth York\n\nNorth Park, Maple Leaf Park, Upwood Park\n, \nM7L\n\nNot assigned\n\n\n, \nM8L\n\nNot assigned\n\n\n, \nM9L\n\nNorth York\n\nHumber Summit\n, \nM1M\n\nScarborough\n\nCliffside, Cliffcrest, Scarborough Village West\n, \nM2M\n\nNorth York\n\nWillowdale, Newtonbrook\n, \nM3M\n\nNorth York\n\nDownsview\n, \nM4M\n\nEast Toronto\n\nStudio District\n, \nM5M\n\nNorth York\n\nBedford Park, Lawrence Manor East\n, \nM6M\n\nYork\n\nDel Ray, Mount Dennis, Keelsdale and Silverthorn\n, \nM7M\n\nNot assigned\n\n\n, \nM8M\n\nNot assigned\n\n\n, \nM9M\n\nNorth York\n\nHumberlea, Emery\n, \nM1N\n\nScarborough\n\nBirch Cliff, Cliffside West\n, \nM2N\n\nNorth York\n\nWillowdale, Willowdale East\n, \nM3N\n\nNorth York\n\nDownsview\n, \nM4N\n\nCentral Toronto\n\nLawrence Park\n, \nM5N\n\nCentral Toronto\n\nRoselawn\n, \nM6N\n\nYork\n\nRunnymede, The Junction North\n, \nM7N\n\nNot assigned\n\n\n, \nM8N\n\nNot assigned\n\n\n, \nM9N\n\nYork\n\nWeston\n, \nM1P\n\nScarborough\n\nDorset Park, Wexford Heights, Scarborough Town Centre\n, \nM2P\n\nNorth York\n\nYork Mills West\n, \nM3P\n\nNot assigned\n\n\n, \nM4P\n\nCentral Toronto\n\nDavisville North\n, \nM5P\n\nCentral Toronto\n\nForest Hill North & West, Forest Hill Road Park\n, \nM6P\n\nWest Toronto\n\nHigh Park, The Junction South\n, \nM7P\n\nNot assigned\n\n\n, \nM8P\n\nNot assigned\n\n\n, \nM9P\n\nEtobicoke\n\nWestmount\n, \nM1R\n\nScarborough\n\nWexford, Maryvale\n, \nM2R\n\nNorth York\n\nWillowdale, Willowdale West\n, \nM3R\n\nNot assigned\n\n\n, \nM4R\n\nCentral Toronto\n\nNorth Toronto West,  Lawrence Park\n, \nM5R\n\nCentral Toronto\n\nThe Annex, North Midtown, Yorkville\n, \nM6R\n\nWest Toronto\n\nParkdale, Roncesvalles\n, \nM7R\n\nMississauga\n\nCanada Post Gateway Processing Centre\n, \nM8R\n\nNot assigned\n\n\n, \nM9R\n\nEtobicoke\n\nKingsview Village, St. Phillips, Martin Grove Gardens, Richview Gardens\n, \nM1S\n\nScarborough\n\nAgincourt\n, \nM2S\n\nNot assigned\n\n\n, \nM3S\n\nNot assigned\n\n\n, \nM4S\n\nCentral Toronto\n\nDavisville\n, \nM5S\n\nDowntown Toronto\n\nUniversity of Toronto, Harbord\n, \nM6S\n\nWest Toronto\n\nRunnymede, Swansea\n, \nM7S\n\nNot assigned\n\n\n, \nM8S\n\nNot assigned\n\n\n, \nM9S\n\nNot assigned\n\n\n, \nM1T\n\nScarborough\n\nClarks Corners, Tam O'Shanter, Sullivan\n, \nM2T\n\nNot assigned\n\n\n, \nM3T\n\nNot assigned\n\n\n, \nM4T\n\nCentral Toronto\n\nMoore Park, Summerhill East\n, \nM5T\n\nDowntown Toronto\n\nKensington Market, Chinatown, Grange Park\n, \nM6T\n\nNot assigned\n\n\n, \nM7T\n\nNot assigned\n\n\n, \nM8T\n\nNot assigned\n\n\n, \nM9T\n\nNot assigned\n\n\n, \nM1V\n\nScarborough\n\nMilliken, Agincourt North, Steeles East, L'Amoreaux East\n, \nM2V\n\nNot assigned\n\n\n, \nM3V\n\nNot assigned\n\n\n, \nM4V\n\nCentral Toronto\n\nSummerhill West, Rathnelly, South Hill, Forest Hill SE, Deer Park\n, \nM5V\n\nDowntown Toronto\n\nCN Tower, King and Spadina, Railway Lands, Harbourfront West, Bathurst Quay, South Niagara, Island airport\n, \nM6V\n\nNot assigned\n\n\n, \nM7V\n\nNot assigned\n\n\n, \nM8V\n\nEtobicoke\n\nNew Toronto, Mimico South, Humber Bay Shores\n, \nM9V\n\nEtobicoke\n\nSouth Steeles, Silverstone, Humbergate, Jamestown, Mount Olive, Beaumond Heights, Thistletown, Albion Gardens\n, \nM1W\n\nScarborough\n\nSteeles West, L'Amoreaux West\n, \nM2W\n\nNot assigned\n\n\n, \nM3W\n\nNot assigned\n\n\n, \nM4W\n\nDowntown Toronto\n\nRosedale\n, \nM5W\n\nDowntown Toronto\n\nStn A PO Boxes\n, \nM6W\n\nNot assigned\n\n\n, \nM7W\n\nNot assigned\n\n\n, \nM8W\n\nEtobicoke\n\nAlderwood, Long Branch\n, \nM9W\n\nEtobicoke\n\nNorthwest, West Humber - Clairville\n, \nM1X\n\nScarborough\n\nUpper Rouge\n, \nM2X\n\nNot assigned\n\n\n, \nM3X\n\nNot assigned\n\n\n, \nM4X\n\nDowntown Toronto\n\nSt. James Town, Cabbagetown\n, \nM5X\n\nDowntown Toronto\n\nFirst Canadian Place, Underground city\n, \nM6X\n\nNot assigned\n\n\n, \nM7X\n\nNot assigned\n\n\n, \nM8X\n\nEtobicoke\n\nThe Kingsway, Montgomery Road, Old Mill North\n, \nM9X\n\nNot assigned\n\n\n, \nM1Y\n\nNot assigned\n\n\n, \nM2Y\n\nNot assigned\n\n\n, \nM3Y\n\nNot assigned\n\n\n, \nM4Y\n\nDowntown Toronto\n\nChurch and Wellesley\n, \nM5Y\n\nNot assigned\n\n\n, \nM6Y\n\nNot assigned\n\n\n, \nM7Y\n\nEast Toronto\n\nBusiness reply mail Processing Centre, South Central Letter Processing Plant Toronto\n, \nM8Y\n\nEtobicoke\n\nOld Mill South, King's Mill Park, Sunnylea, Humber Bay, Mimico NE, The Queensway East, Royal York South East, Kingsway Park South East\n, \nM9Y\n\nNot assigned\n\n\n, \nM1Z\n\nNot assigned\n\n\n, \nM2Z\n\nNot assigned\n\n\n, \nM3Z\n\nNot assigned\n\n\n, \nM4Z\n\nNot assigned\n\n\n, \nM5Z\n\nNot assigned\n\n\n, \nM6Z\n\nNot assigned\n\n\n, \nM7Z\n\nNot assigned\n\n\n, \nM8Z\n\nEtobicoke\n\nMimico NW, The Queensway West, South of Bloor, Kingsway Park South West, Royal York South West\n, \nM9Z\n\nNot assigned\n\n\n]\n",
          "name": "stdout"
        },
        {
          "output_type": "execute_result",
          "execution_count": 174,
          "data": {
            "text/plain": "str"
          },
          "metadata": {}
        }
      ]
    },
    {
      "metadata": {
        "trusted": true
      },
      "cell_type": "code",
      "source": "string = \"why, is, this, happening\"\nprint(string.split(\",\"))",
      "execution_count": 175,
      "outputs": [
        {
          "output_type": "stream",
          "text": "['why', ' is', ' this', ' happening']\n",
          "name": "stdout"
        }
      ]
    },
    {
      "metadata": {
        "trusted": true
      },
      "cell_type": "code",
      "source": "list_rows = cleantext.split(\"\\n,\")",
      "execution_count": 176,
      "outputs": []
    },
    {
      "metadata": {
        "trusted": true
      },
      "cell_type": "code",
      "source": "df = pd.DataFrame(list_rows)\ndf.head(10)",
      "execution_count": 177,
      "outputs": [
        {
          "output_type": "execute_result",
          "execution_count": 177,
          "data": {
            "text/html": "<div>\n<style scoped>\n    .dataframe tbody tr th:only-of-type {\n        vertical-align: middle;\n    }\n\n    .dataframe tbody tr th {\n        vertical-align: top;\n    }\n\n    .dataframe thead th {\n        text-align: right;\n    }\n</style>\n<table border=\"1\" class=\"dataframe\">\n  <thead>\n    <tr style=\"text-align: right;\">\n      <th></th>\n      <th>0</th>\n    </tr>\n  </thead>\n  <tbody>\n    <tr>\n      <th>0</th>\n      <td>[\\nPostal Code\\n\\nBorough\\n\\nNeighborhood</td>\n    </tr>\n    <tr>\n      <th>1</th>\n      <td>\\nM1A\\n\\nNot assigned\\n\\n</td>\n    </tr>\n    <tr>\n      <th>2</th>\n      <td>\\nM2A\\n\\nNot assigned\\n\\n</td>\n    </tr>\n    <tr>\n      <th>3</th>\n      <td>\\nM3A\\n\\nNorth York\\n\\nParkwoods</td>\n    </tr>\n    <tr>\n      <th>4</th>\n      <td>\\nM4A\\n\\nNorth York\\n\\nVictoria Village</td>\n    </tr>\n    <tr>\n      <th>5</th>\n      <td>\\nM5A\\n\\nDowntown Toronto\\n\\nRegent Park, Har...</td>\n    </tr>\n    <tr>\n      <th>6</th>\n      <td>\\nM6A\\n\\nNorth York\\n\\nLawrence Manor, Lawren...</td>\n    </tr>\n    <tr>\n      <th>7</th>\n      <td>\\nM7A\\n\\nDowntown Toronto\\n\\nQueen's Park, On...</td>\n    </tr>\n    <tr>\n      <th>8</th>\n      <td>\\nM8A\\n\\nNot assigned\\n\\n</td>\n    </tr>\n    <tr>\n      <th>9</th>\n      <td>\\nM9A\\n\\nEtobicoke\\n\\nIslington Avenue, Humbe...</td>\n    </tr>\n  </tbody>\n</table>\n</div>",
            "text/plain": "                                                   0\n0          [\\nPostal Code\\n\\nBorough\\n\\nNeighborhood\n1                          \\nM1A\\n\\nNot assigned\\n\\n\n2                          \\nM2A\\n\\nNot assigned\\n\\n\n3                   \\nM3A\\n\\nNorth York\\n\\nParkwoods\n4            \\nM4A\\n\\nNorth York\\n\\nVictoria Village\n5   \\nM5A\\n\\nDowntown Toronto\\n\\nRegent Park, Har...\n6   \\nM6A\\n\\nNorth York\\n\\nLawrence Manor, Lawren...\n7   \\nM7A\\n\\nDowntown Toronto\\n\\nQueen's Park, On...\n8                          \\nM8A\\n\\nNot assigned\\n\\n\n9   \\nM9A\\n\\nEtobicoke\\n\\nIslington Avenue, Humbe..."
          },
          "metadata": {}
        }
      ]
    },
    {
      "metadata": {
        "trusted": true
      },
      "cell_type": "code",
      "source": "df1 = df[0].str.split('\\n', expand=True)\ndf1.head(10)\n",
      "execution_count": 178,
      "outputs": [
        {
          "output_type": "execute_result",
          "execution_count": 178,
          "data": {
            "text/html": "<div>\n<style scoped>\n    .dataframe tbody tr th:only-of-type {\n        vertical-align: middle;\n    }\n\n    .dataframe tbody tr th {\n        vertical-align: top;\n    }\n\n    .dataframe thead th {\n        text-align: right;\n    }\n</style>\n<table border=\"1\" class=\"dataframe\">\n  <thead>\n    <tr style=\"text-align: right;\">\n      <th></th>\n      <th>0</th>\n      <th>1</th>\n      <th>2</th>\n      <th>3</th>\n      <th>4</th>\n      <th>5</th>\n      <th>6</th>\n    </tr>\n  </thead>\n  <tbody>\n    <tr>\n      <th>0</th>\n      <td>[</td>\n      <td>Postal Code</td>\n      <td></td>\n      <td>Borough</td>\n      <td></td>\n      <td>Neighborhood</td>\n      <td>None</td>\n    </tr>\n    <tr>\n      <th>1</th>\n      <td></td>\n      <td>M1A</td>\n      <td></td>\n      <td>Not assigned</td>\n      <td></td>\n      <td></td>\n      <td>None</td>\n    </tr>\n    <tr>\n      <th>2</th>\n      <td></td>\n      <td>M2A</td>\n      <td></td>\n      <td>Not assigned</td>\n      <td></td>\n      <td></td>\n      <td>None</td>\n    </tr>\n    <tr>\n      <th>3</th>\n      <td></td>\n      <td>M3A</td>\n      <td></td>\n      <td>North York</td>\n      <td></td>\n      <td>Parkwoods</td>\n      <td>None</td>\n    </tr>\n    <tr>\n      <th>4</th>\n      <td></td>\n      <td>M4A</td>\n      <td></td>\n      <td>North York</td>\n      <td></td>\n      <td>Victoria Village</td>\n      <td>None</td>\n    </tr>\n    <tr>\n      <th>5</th>\n      <td></td>\n      <td>M5A</td>\n      <td></td>\n      <td>Downtown Toronto</td>\n      <td></td>\n      <td>Regent Park, Harbourfront</td>\n      <td>None</td>\n    </tr>\n    <tr>\n      <th>6</th>\n      <td></td>\n      <td>M6A</td>\n      <td></td>\n      <td>North York</td>\n      <td></td>\n      <td>Lawrence Manor, Lawrence Heights</td>\n      <td>None</td>\n    </tr>\n    <tr>\n      <th>7</th>\n      <td></td>\n      <td>M7A</td>\n      <td></td>\n      <td>Downtown Toronto</td>\n      <td></td>\n      <td>Queen's Park, Ontario Provincial Government</td>\n      <td>None</td>\n    </tr>\n    <tr>\n      <th>8</th>\n      <td></td>\n      <td>M8A</td>\n      <td></td>\n      <td>Not assigned</td>\n      <td></td>\n      <td></td>\n      <td>None</td>\n    </tr>\n    <tr>\n      <th>9</th>\n      <td></td>\n      <td>M9A</td>\n      <td></td>\n      <td>Etobicoke</td>\n      <td></td>\n      <td>Islington Avenue, Humber Valley Village</td>\n      <td>None</td>\n    </tr>\n  </tbody>\n</table>\n</div>",
            "text/plain": "   0            1 2                 3 4  \\\n0  [  Postal Code             Borough     \n1             M1A        Not assigned     \n2             M2A        Not assigned     \n3             M3A          North York     \n4             M4A          North York     \n5             M5A    Downtown Toronto     \n6             M6A          North York     \n7             M7A    Downtown Toronto     \n8             M8A        Not assigned     \n9             M9A           Etobicoke     \n\n                                             5     6  \n0                                 Neighborhood  None  \n1                                               None  \n2                                               None  \n3                                    Parkwoods  None  \n4                             Victoria Village  None  \n5                    Regent Park, Harbourfront  None  \n6             Lawrence Manor, Lawrence Heights  None  \n7  Queen's Park, Ontario Provincial Government  None  \n8                                               None  \n9      Islington Avenue, Humber Valley Village  None  "
          },
          "metadata": {}
        }
      ]
    },
    {
      "metadata": {
        "trusted": true
      },
      "cell_type": "code",
      "source": "list(df1.columns) ",
      "execution_count": 179,
      "outputs": [
        {
          "output_type": "execute_result",
          "execution_count": 179,
          "data": {
            "text/plain": "[0, 1, 2, 3, 4, 5, 6]"
          },
          "metadata": {}
        }
      ]
    },
    {
      "metadata": {},
      "cell_type": "markdown",
      "source": "Drop Extra Columns"
    },
    {
      "metadata": {
        "trusted": true
      },
      "cell_type": "code",
      "source": "df2 = df1.drop([df1.index[0],df1.index[2],df1.index[4],df1.index[6]], axis=1)\ndf2.head(5)",
      "execution_count": 180,
      "outputs": [
        {
          "output_type": "execute_result",
          "execution_count": 180,
          "data": {
            "text/html": "<div>\n<style scoped>\n    .dataframe tbody tr th:only-of-type {\n        vertical-align: middle;\n    }\n\n    .dataframe tbody tr th {\n        vertical-align: top;\n    }\n\n    .dataframe thead th {\n        text-align: right;\n    }\n</style>\n<table border=\"1\" class=\"dataframe\">\n  <thead>\n    <tr style=\"text-align: right;\">\n      <th></th>\n      <th>1</th>\n      <th>3</th>\n      <th>5</th>\n    </tr>\n  </thead>\n  <tbody>\n    <tr>\n      <th>0</th>\n      <td>Postal Code</td>\n      <td>Borough</td>\n      <td>Neighborhood</td>\n    </tr>\n    <tr>\n      <th>1</th>\n      <td>M1A</td>\n      <td>Not assigned</td>\n      <td></td>\n    </tr>\n    <tr>\n      <th>2</th>\n      <td>M2A</td>\n      <td>Not assigned</td>\n      <td></td>\n    </tr>\n    <tr>\n      <th>3</th>\n      <td>M3A</td>\n      <td>North York</td>\n      <td>Parkwoods</td>\n    </tr>\n    <tr>\n      <th>4</th>\n      <td>M4A</td>\n      <td>North York</td>\n      <td>Victoria Village</td>\n    </tr>\n  </tbody>\n</table>\n</div>",
            "text/plain": "             1             3                 5\n0  Postal Code       Borough      Neighborhood\n1          M1A  Not assigned                  \n2          M2A  Not assigned                  \n3          M3A    North York         Parkwoods\n4          M4A    North York  Victoria Village"
          },
          "metadata": {}
        }
      ]
    },
    {
      "metadata": {},
      "cell_type": "markdown",
      "source": "Rename Columns"
    },
    {
      "metadata": {
        "trusted": true
      },
      "cell_type": "code",
      "source": "df2.rename(columns={1: 'Postal Code', 3: 'Borough', 5: 'Neighborhood'}, inplace=True)\ndf2.head(5)",
      "execution_count": 181,
      "outputs": [
        {
          "output_type": "execute_result",
          "execution_count": 181,
          "data": {
            "text/html": "<div>\n<style scoped>\n    .dataframe tbody tr th:only-of-type {\n        vertical-align: middle;\n    }\n\n    .dataframe tbody tr th {\n        vertical-align: top;\n    }\n\n    .dataframe thead th {\n        text-align: right;\n    }\n</style>\n<table border=\"1\" class=\"dataframe\">\n  <thead>\n    <tr style=\"text-align: right;\">\n      <th></th>\n      <th>Postal Code</th>\n      <th>Borough</th>\n      <th>Neighborhood</th>\n    </tr>\n  </thead>\n  <tbody>\n    <tr>\n      <th>0</th>\n      <td>Postal Code</td>\n      <td>Borough</td>\n      <td>Neighborhood</td>\n    </tr>\n    <tr>\n      <th>1</th>\n      <td>M1A</td>\n      <td>Not assigned</td>\n      <td></td>\n    </tr>\n    <tr>\n      <th>2</th>\n      <td>M2A</td>\n      <td>Not assigned</td>\n      <td></td>\n    </tr>\n    <tr>\n      <th>3</th>\n      <td>M3A</td>\n      <td>North York</td>\n      <td>Parkwoods</td>\n    </tr>\n    <tr>\n      <th>4</th>\n      <td>M4A</td>\n      <td>North York</td>\n      <td>Victoria Village</td>\n    </tr>\n  </tbody>\n</table>\n</div>",
            "text/plain": "   Postal Code       Borough      Neighborhood\n0  Postal Code       Borough      Neighborhood\n1          M1A  Not assigned                  \n2          M2A  Not assigned                  \n3          M3A    North York         Parkwoods\n4          M4A    North York  Victoria Village"
          },
          "metadata": {}
        }
      ]
    },
    {
      "metadata": {},
      "cell_type": "markdown",
      "source": "Drop Unneeded Rows"
    },
    {
      "metadata": {
        "trusted": true
      },
      "cell_type": "code",
      "source": "df3 = df2.drop(df2.index[0])\ndf4 = df3[df3.Borough != 'Not assigned']\ndf4.head(5)",
      "execution_count": 184,
      "outputs": [
        {
          "output_type": "execute_result",
          "execution_count": 184,
          "data": {
            "text/html": "<div>\n<style scoped>\n    .dataframe tbody tr th:only-of-type {\n        vertical-align: middle;\n    }\n\n    .dataframe tbody tr th {\n        vertical-align: top;\n    }\n\n    .dataframe thead th {\n        text-align: right;\n    }\n</style>\n<table border=\"1\" class=\"dataframe\">\n  <thead>\n    <tr style=\"text-align: right;\">\n      <th></th>\n      <th>Postal Code</th>\n      <th>Borough</th>\n      <th>Neighborhood</th>\n    </tr>\n  </thead>\n  <tbody>\n    <tr>\n      <th>3</th>\n      <td>M3A</td>\n      <td>North York</td>\n      <td>Parkwoods</td>\n    </tr>\n    <tr>\n      <th>4</th>\n      <td>M4A</td>\n      <td>North York</td>\n      <td>Victoria Village</td>\n    </tr>\n    <tr>\n      <th>5</th>\n      <td>M5A</td>\n      <td>Downtown Toronto</td>\n      <td>Regent Park, Harbourfront</td>\n    </tr>\n    <tr>\n      <th>6</th>\n      <td>M6A</td>\n      <td>North York</td>\n      <td>Lawrence Manor, Lawrence Heights</td>\n    </tr>\n    <tr>\n      <th>7</th>\n      <td>M7A</td>\n      <td>Downtown Toronto</td>\n      <td>Queen's Park, Ontario Provincial Government</td>\n    </tr>\n  </tbody>\n</table>\n</div>",
            "text/plain": "  Postal Code           Borough                                 Neighborhood\n3         M3A        North York                                    Parkwoods\n4         M4A        North York                             Victoria Village\n5         M5A  Downtown Toronto                    Regent Park, Harbourfront\n6         M6A        North York             Lawrence Manor, Lawrence Heights\n7         M7A  Downtown Toronto  Queen's Park, Ontario Provincial Government"
          },
          "metadata": {}
        }
      ]
    },
    {
      "metadata": {
        "trusted": true
      },
      "cell_type": "code",
      "source": "df5 = df4.reset_index()\nlist(df5.columns) ",
      "execution_count": 188,
      "outputs": [
        {
          "output_type": "execute_result",
          "execution_count": 188,
          "data": {
            "text/plain": "['index', 'Postal Code', 'Borough', 'Neighborhood']"
          },
          "metadata": {}
        }
      ]
    },
    {
      "metadata": {
        "trusted": true
      },
      "cell_type": "code",
      "source": "df5.drop('index', axis=1, inplace=True)\ndf5.head(5)",
      "execution_count": 192,
      "outputs": [
        {
          "output_type": "execute_result",
          "execution_count": 192,
          "data": {
            "text/html": "<div>\n<style scoped>\n    .dataframe tbody tr th:only-of-type {\n        vertical-align: middle;\n    }\n\n    .dataframe tbody tr th {\n        vertical-align: top;\n    }\n\n    .dataframe thead th {\n        text-align: right;\n    }\n</style>\n<table border=\"1\" class=\"dataframe\">\n  <thead>\n    <tr style=\"text-align: right;\">\n      <th></th>\n      <th>Postal Code</th>\n      <th>Borough</th>\n      <th>Neighborhood</th>\n    </tr>\n  </thead>\n  <tbody>\n    <tr>\n      <th>0</th>\n      <td>M3A</td>\n      <td>North York</td>\n      <td>Parkwoods</td>\n    </tr>\n    <tr>\n      <th>1</th>\n      <td>M4A</td>\n      <td>North York</td>\n      <td>Victoria Village</td>\n    </tr>\n    <tr>\n      <th>2</th>\n      <td>M5A</td>\n      <td>Downtown Toronto</td>\n      <td>Regent Park, Harbourfront</td>\n    </tr>\n    <tr>\n      <th>3</th>\n      <td>M6A</td>\n      <td>North York</td>\n      <td>Lawrence Manor, Lawrence Heights</td>\n    </tr>\n    <tr>\n      <th>4</th>\n      <td>M7A</td>\n      <td>Downtown Toronto</td>\n      <td>Queen's Park, Ontario Provincial Government</td>\n    </tr>\n  </tbody>\n</table>\n</div>",
            "text/plain": "  Postal Code           Borough                                 Neighborhood\n0         M3A        North York                                    Parkwoods\n1         M4A        North York                             Victoria Village\n2         M5A  Downtown Toronto                    Regent Park, Harbourfront\n3         M6A        North York             Lawrence Manor, Lawrence Heights\n4         M7A  Downtown Toronto  Queen's Park, Ontario Provincial Government"
          },
          "metadata": {}
        }
      ]
    },
    {
      "metadata": {
        "trusted": true
      },
      "cell_type": "code",
      "source": "df5.shape\n",
      "execution_count": 194,
      "outputs": [
        {
          "output_type": "execute_result",
          "execution_count": 194,
          "data": {
            "text/plain": "(103, 3)"
          },
          "metadata": {}
        }
      ]
    },
    {
      "metadata": {
        "trusted": true
      },
      "cell_type": "code",
      "source": "",
      "execution_count": null,
      "outputs": []
    }
  ],
  "metadata": {
    "kernelspec": {
      "name": "python36",
      "display_name": "Python 3.6",
      "language": "python"
    },
    "language_info": {
      "mimetype": "text/x-python",
      "nbconvert_exporter": "python",
      "name": "python",
      "pygments_lexer": "ipython3",
      "version": "3.6.6",
      "file_extension": ".py",
      "codemirror_mode": {
        "version": 3,
        "name": "ipython"
      }
    }
  },
  "nbformat": 4,
  "nbformat_minor": 2
}